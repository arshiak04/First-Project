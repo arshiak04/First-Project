{
  "metadata": {
    "kernelspec": {
      "name": "python",
      "display_name": "Python (Pyodide)",
      "language": "python"
    },
    "language_info": {
      "codemirror_mode": {
        "name": "python",
        "version": 3
      },
      "file_extension": ".py",
      "mimetype": "text/x-python",
      "name": "python",
      "nbconvert_exporter": "python",
      "pygments_lexer": "ipython3",
      "version": "3.8"
    }
  },
  "nbformat_minor": 4,
  "nbformat": 4,
  "cells": [
    {
      "cell_type": "markdown",
      "source": "# My Data Science Notebook",
      "metadata": {}
    },
    {
      "cell_type": "markdown",
      "source": "## Introduction\n\nWelcome to my Data Science notebook! In this notebook, we will explore various data science concepts, languages, libraries, and tools.\n",
      "metadata": {}
    },
    {
      "cell_type": "markdown",
      "source": "### Data Science Languages:\n- Python\n- R\n- SQL",
      "metadata": {}
    },
    {
      "cell_type": "markdown",
      "source": "### Data Science Libraries:\n- Pandas\n- NumPy\n- Matplotlib\n",
      "metadata": {}
    },
    {
      "cell_type": "markdown",
      "source": "### Data Science Tools:\n\n| Tool         | Description                              |\n|--------------|------------------------------------------|\n| Jupyter      | Interactive computing environment        |\n| TensorFlow   | Machine learning framework               |\n| Scikit-learn | Machine learning library for Python      |\n",
      "metadata": {}
    },
    {
      "cell_type": "markdown",
      "source": "## Arithmetic Expression Examples\n\nIn this section, we'll demonstrate simple arithmetic operations such as addition, multiplication, and division using Python code.\n",
      "metadata": {}
    },
    {
      "cell_type": "code",
      "source": "# Multiplication\nresult_multiply = 5 * 10\n\n# Addition\nresult_add = 20 + 30\n\nprint(\"Multiplication result:\", result_multiply)\nprint(\"Addition result:\", result_add)\n",
      "metadata": {
        "trusted": true
      },
      "outputs": [],
      "execution_count": null
    },
    {
      "cell_type": "code",
      "source": "# Conversion from minutes to hours\nminutes = 120\nhours = minutes / 60\n\nprint(\"120 minutes is equal to\", hours, \"hours\")\n",
      "metadata": {
        "trusted": true
      },
      "outputs": [],
      "execution_count": null
    },
    {
      "cell_type": "markdown",
      "source": "## Objectives:\n\n1. Learn about data science languages and libraries.\n2. Explore basic arithmetic operations in Python.\n3. Understand how to use Jupyter Notebook for data analysis.\n",
      "metadata": {}
    },
    {
      "cell_type": "markdown",
      "source": "## Author\n\nThis notebook was created by [Arshia Kaura].\n",
      "metadata": {}
    }
  ]
}